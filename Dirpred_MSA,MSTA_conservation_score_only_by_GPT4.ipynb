{
  "nbformat": 4,
  "nbformat_minor": 0,
  "metadata": {
    "colab": {
      "provenance": [],
      "authorship_tag": "ABX9TyOeVtQQKw87HGiReOylmZZg",
      "include_colab_link": true
    },
    "kernelspec": {
      "name": "python3",
      "display_name": "Python 3"
    },
    "language_info": {
      "name": "python"
    }
  },
  "cells": [
    {
      "cell_type": "markdown",
      "metadata": {
        "id": "view-in-github",
        "colab_type": "text"
      },
      "source": [
        "<a href=\"https://colab.research.google.com/github/djdbgp/DIRpred/blob/master/Dirpred_MSA%2CMSTA_conservation_score_only_by_GPT4.ipynb\" target=\"_parent\"><img src=\"https://colab.research.google.com/assets/colab-badge.svg\" alt=\"Open In Colab\"/></a>"
      ]
    },
    {
      "cell_type": "code",
      "source": [
        "!wget https://raw.githubusercontent.com/djdbgp/DIRpred/refs/heads/master/src/utils.py"
      ],
      "metadata": {
        "colab": {
          "base_uri": "https://localhost:8080/"
        },
        "id": "7W8KE1kuWlvL",
        "outputId": "efb549e0-6b96-470e-b6a0-583394ba662f"
      },
      "execution_count": 2,
      "outputs": [
        {
          "output_type": "stream",
          "name": "stdout",
          "text": [
            "--2024-12-29 12:18:54--  https://raw.githubusercontent.com/djdbgp/DIRpred/refs/heads/master/src/utils.py\n",
            "Resolving raw.githubusercontent.com (raw.githubusercontent.com)... 185.199.108.133, 185.199.109.133, 185.199.110.133, ...\n",
            "Connecting to raw.githubusercontent.com (raw.githubusercontent.com)|185.199.108.133|:443... connected.\n",
            "HTTP request sent, awaiting response... 200 OK\n",
            "Length: 40726 (40K) [text/plain]\n",
            "Saving to: ‘utils.py’\n",
            "\n",
            "utils.py            100%[===================>]  39.77K  --.-KB/s    in 0.05s   \n",
            "\n",
            "2024-12-29 12:18:55 (753 KB/s) - ‘utils.py’ saved [40726/40726]\n",
            "\n"
          ]
        }
      ]
    },
    {
      "cell_type": "code",
      "source": [
        "pip install biopython\n"
      ],
      "metadata": {
        "colab": {
          "base_uri": "https://localhost:8080/"
        },
        "id": "588uSSPzW6wr",
        "outputId": "944ff8fd-966e-4881-fe6e-191a744d10ff"
      },
      "execution_count": 4,
      "outputs": [
        {
          "output_type": "stream",
          "name": "stdout",
          "text": [
            "Collecting biopython\n",
            "  Downloading biopython-1.84-cp310-cp310-manylinux_2_17_x86_64.manylinux2014_x86_64.whl.metadata (12 kB)\n",
            "Requirement already satisfied: numpy in /usr/local/lib/python3.10/dist-packages (from biopython) (1.26.4)\n",
            "Downloading biopython-1.84-cp310-cp310-manylinux_2_17_x86_64.manylinux2014_x86_64.whl (3.2 MB)\n",
            "\u001b[2K   \u001b[90m━━━━━━━━━━━━━━━━━━━━━━━━━━━━━━━━━━━━━━━━\u001b[0m \u001b[32m3.2/3.2 MB\u001b[0m \u001b[31m28.1 MB/s\u001b[0m eta \u001b[36m0:00:00\u001b[0m\n",
            "\u001b[?25hInstalling collected packages: biopython\n",
            "Successfully installed biopython-1.84\n"
          ]
        }
      ]
    },
    {
      "cell_type": "code",
      "source": [
        "import argparse\n",
        "import utils as dc\n",
        "import os\n",
        "import pandas as pd\n",
        "\n",
        "def read_input_files(msa_file, msta_file, reference):\n",
        "    \"\"\"\n",
        "    MSA와 MSTA 파일을 읽고 객체로 변환합니다.\n",
        "    \"\"\"\n",
        "    msa = dc.MSA(\"MSA\", reference=reference)\n",
        "    msa.msa = dc.create_msa(open(msa_file))\n",
        "\n",
        "    msta = dc.MSA(\"MSTA\", reference=reference)\n",
        "    msta.msa = dc.create_msa(open(msta_file))\n",
        "\n",
        "    return msa, msta\n",
        "\n",
        "def calculate_msa_msta(msa, msta, output_path):\n",
        "    \"\"\"\n",
        "    MSA와 MSTA 점수를 계산하고 저장합니다.\n",
        "    \"\"\"\n",
        "    msa_scores = msa.get_cons_scores(\"id\")\n",
        "    msta_scores = msta.get_cons_scores(\"id\")\n",
        "\n",
        "    msa_df = pd.DataFrame({\"Position\": msa.get_referenced_pos(), \"Score\": msa_scores})\n",
        "    msta_df = pd.DataFrame({\"Position\": msta.get_referenced_pos(), \"Score\": msta_scores})\n",
        "\n",
        "    # 결과를 CSV로 저장\n",
        "    msa_output_path = os.path.join(output_path, \"msa_scores.csv\")\n",
        "    msta_output_path = os.path.join(output_path, \"msta_scores.csv\")\n",
        "\n",
        "    msa_df.to_csv(msa_output_path, index=False)\n",
        "    msta_df.to_csv(msta_output_path, index=False)\n",
        "\n",
        "    print(f\"MSA scores saved to {msa_output_path}\")\n",
        "    print(f\"MSTA scores saved to {msta_output_path}\")\n",
        "\n",
        "def main():\n",
        "    parser = argparse.ArgumentParser(description=\"Extract MSA and MSTA conservation scores.\")\n",
        "    parser.add_argument(\"--msa-file\", required=True, help=\"Path to the MSA file.\")\n",
        "    parser.add_argument(\"--msta-file\", required=True, help=\"Path to the MSTA file.\")\n",
        "    parser.add_argument(\"--output-path\", required=True, help=\"Path to save output files.\")\n",
        "    parser.add_argument(\"--reference\", required=True, help=\"Reference sequence name.\")\n",
        "\n",
        "    args = parser.parse_args()\n",
        "\n",
        "    if not os.path.exists(args.output_path):\n",
        "        os.makedirs(args.output_path)\n",
        "\n",
        "    msa, msta = read_input_files(args.msa_file, args.msta_file, args.reference)\n",
        "    calculate_msa_msta(msa, msta, args.output_path)\n",
        "\n",
        "if __name__ == \"__main__\":\n",
        "    main()\n"
      ],
      "metadata": {
        "colab": {
          "base_uri": "https://localhost:8080/",
          "height": 147
        },
        "id": "TBra0LsoWwAU",
        "outputId": "a35967d6-09f4-4a1b-d815-3252c29b2b59"
      },
      "execution_count": 16,
      "outputs": [
        {
          "output_type": "stream",
          "name": "stderr",
          "text": [
            "usage: colab_kernel_launcher.py [-h] --msa-file MSA_FILE --msta-file MSTA_FILE --output-path\n",
            "                                OUTPUT_PATH --reference REFERENCE\n",
            "colab_kernel_launcher.py: error: the following arguments are required: --msa-file, --msta-file, --output-path, --reference\n"
          ]
        },
        {
          "output_type": "error",
          "ename": "SystemExit",
          "evalue": "2",
          "traceback": [
            "An exception has occurred, use %tb to see the full traceback.\n",
            "\u001b[0;31mSystemExit\u001b[0m\u001b[0;31m:\u001b[0m 2\n"
          ]
        }
      ]
    },
    {
      "cell_type": "code",
      "source": [
        "from google.colab import files\n",
        "\n",
        "# 파일 업로드\n",
        "uploaded = files.upload()\n",
        "\n",
        "# 파일 경로 확인\n",
        "for filename in uploaded.keys():\n",
        "    print(f\"Uploaded file: {filename}\")\n"
      ],
      "metadata": {
        "colab": {
          "base_uri": "https://localhost:8080/",
          "height": 149
        },
        "id": "nW9px5Bca-zn",
        "outputId": "f8493654-533c-47da-951c-723847ca52b1"
      },
      "execution_count": 6,
      "outputs": [
        {
          "output_type": "display_data",
          "data": {
            "text/plain": [
              "<IPython.core.display.HTML object>"
            ],
            "text/html": [
              "\n",
              "     <input type=\"file\" id=\"files-796362c2-d45d-4ba5-b89f-0316bae0a0aa\" name=\"files[]\" multiple disabled\n",
              "        style=\"border:none\" />\n",
              "     <output id=\"result-796362c2-d45d-4ba5-b89f-0316bae0a0aa\">\n",
              "      Upload widget is only available when the cell has been executed in the\n",
              "      current browser session. Please rerun this cell to enable.\n",
              "      </output>\n",
              "      <script>// Copyright 2017 Google LLC\n",
              "//\n",
              "// Licensed under the Apache License, Version 2.0 (the \"License\");\n",
              "// you may not use this file except in compliance with the License.\n",
              "// You may obtain a copy of the License at\n",
              "//\n",
              "//      http://www.apache.org/licenses/LICENSE-2.0\n",
              "//\n",
              "// Unless required by applicable law or agreed to in writing, software\n",
              "// distributed under the License is distributed on an \"AS IS\" BASIS,\n",
              "// WITHOUT WARRANTIES OR CONDITIONS OF ANY KIND, either express or implied.\n",
              "// See the License for the specific language governing permissions and\n",
              "// limitations under the License.\n",
              "\n",
              "/**\n",
              " * @fileoverview Helpers for google.colab Python module.\n",
              " */\n",
              "(function(scope) {\n",
              "function span(text, styleAttributes = {}) {\n",
              "  const element = document.createElement('span');\n",
              "  element.textContent = text;\n",
              "  for (const key of Object.keys(styleAttributes)) {\n",
              "    element.style[key] = styleAttributes[key];\n",
              "  }\n",
              "  return element;\n",
              "}\n",
              "\n",
              "// Max number of bytes which will be uploaded at a time.\n",
              "const MAX_PAYLOAD_SIZE = 100 * 1024;\n",
              "\n",
              "function _uploadFiles(inputId, outputId) {\n",
              "  const steps = uploadFilesStep(inputId, outputId);\n",
              "  const outputElement = document.getElementById(outputId);\n",
              "  // Cache steps on the outputElement to make it available for the next call\n",
              "  // to uploadFilesContinue from Python.\n",
              "  outputElement.steps = steps;\n",
              "\n",
              "  return _uploadFilesContinue(outputId);\n",
              "}\n",
              "\n",
              "// This is roughly an async generator (not supported in the browser yet),\n",
              "// where there are multiple asynchronous steps and the Python side is going\n",
              "// to poll for completion of each step.\n",
              "// This uses a Promise to block the python side on completion of each step,\n",
              "// then passes the result of the previous step as the input to the next step.\n",
              "function _uploadFilesContinue(outputId) {\n",
              "  const outputElement = document.getElementById(outputId);\n",
              "  const steps = outputElement.steps;\n",
              "\n",
              "  const next = steps.next(outputElement.lastPromiseValue);\n",
              "  return Promise.resolve(next.value.promise).then((value) => {\n",
              "    // Cache the last promise value to make it available to the next\n",
              "    // step of the generator.\n",
              "    outputElement.lastPromiseValue = value;\n",
              "    return next.value.response;\n",
              "  });\n",
              "}\n",
              "\n",
              "/**\n",
              " * Generator function which is called between each async step of the upload\n",
              " * process.\n",
              " * @param {string} inputId Element ID of the input file picker element.\n",
              " * @param {string} outputId Element ID of the output display.\n",
              " * @return {!Iterable<!Object>} Iterable of next steps.\n",
              " */\n",
              "function* uploadFilesStep(inputId, outputId) {\n",
              "  const inputElement = document.getElementById(inputId);\n",
              "  inputElement.disabled = false;\n",
              "\n",
              "  const outputElement = document.getElementById(outputId);\n",
              "  outputElement.innerHTML = '';\n",
              "\n",
              "  const pickedPromise = new Promise((resolve) => {\n",
              "    inputElement.addEventListener('change', (e) => {\n",
              "      resolve(e.target.files);\n",
              "    });\n",
              "  });\n",
              "\n",
              "  const cancel = document.createElement('button');\n",
              "  inputElement.parentElement.appendChild(cancel);\n",
              "  cancel.textContent = 'Cancel upload';\n",
              "  const cancelPromise = new Promise((resolve) => {\n",
              "    cancel.onclick = () => {\n",
              "      resolve(null);\n",
              "    };\n",
              "  });\n",
              "\n",
              "  // Wait for the user to pick the files.\n",
              "  const files = yield {\n",
              "    promise: Promise.race([pickedPromise, cancelPromise]),\n",
              "    response: {\n",
              "      action: 'starting',\n",
              "    }\n",
              "  };\n",
              "\n",
              "  cancel.remove();\n",
              "\n",
              "  // Disable the input element since further picks are not allowed.\n",
              "  inputElement.disabled = true;\n",
              "\n",
              "  if (!files) {\n",
              "    return {\n",
              "      response: {\n",
              "        action: 'complete',\n",
              "      }\n",
              "    };\n",
              "  }\n",
              "\n",
              "  for (const file of files) {\n",
              "    const li = document.createElement('li');\n",
              "    li.append(span(file.name, {fontWeight: 'bold'}));\n",
              "    li.append(span(\n",
              "        `(${file.type || 'n/a'}) - ${file.size} bytes, ` +\n",
              "        `last modified: ${\n",
              "            file.lastModifiedDate ? file.lastModifiedDate.toLocaleDateString() :\n",
              "                                    'n/a'} - `));\n",
              "    const percent = span('0% done');\n",
              "    li.appendChild(percent);\n",
              "\n",
              "    outputElement.appendChild(li);\n",
              "\n",
              "    const fileDataPromise = new Promise((resolve) => {\n",
              "      const reader = new FileReader();\n",
              "      reader.onload = (e) => {\n",
              "        resolve(e.target.result);\n",
              "      };\n",
              "      reader.readAsArrayBuffer(file);\n",
              "    });\n",
              "    // Wait for the data to be ready.\n",
              "    let fileData = yield {\n",
              "      promise: fileDataPromise,\n",
              "      response: {\n",
              "        action: 'continue',\n",
              "      }\n",
              "    };\n",
              "\n",
              "    // Use a chunked sending to avoid message size limits. See b/62115660.\n",
              "    let position = 0;\n",
              "    do {\n",
              "      const length = Math.min(fileData.byteLength - position, MAX_PAYLOAD_SIZE);\n",
              "      const chunk = new Uint8Array(fileData, position, length);\n",
              "      position += length;\n",
              "\n",
              "      const base64 = btoa(String.fromCharCode.apply(null, chunk));\n",
              "      yield {\n",
              "        response: {\n",
              "          action: 'append',\n",
              "          file: file.name,\n",
              "          data: base64,\n",
              "        },\n",
              "      };\n",
              "\n",
              "      let percentDone = fileData.byteLength === 0 ?\n",
              "          100 :\n",
              "          Math.round((position / fileData.byteLength) * 100);\n",
              "      percent.textContent = `${percentDone}% done`;\n",
              "\n",
              "    } while (position < fileData.byteLength);\n",
              "  }\n",
              "\n",
              "  // All done.\n",
              "  yield {\n",
              "    response: {\n",
              "      action: 'complete',\n",
              "    }\n",
              "  };\n",
              "}\n",
              "\n",
              "scope.google = scope.google || {};\n",
              "scope.google.colab = scope.google.colab || {};\n",
              "scope.google.colab._files = {\n",
              "  _uploadFiles,\n",
              "  _uploadFilesContinue,\n",
              "};\n",
              "})(self);\n",
              "</script> "
            ]
          },
          "metadata": {}
        },
        {
          "output_type": "stream",
          "name": "stdout",
          "text": [
            "Saving 20 sequences Alignment.fasta to 20 sequences Alignment.fasta\n",
            "Saving foldmason_aa.fa to foldmason_aa.fa\n",
            "Uploaded file: 20 sequences Alignment.fasta\n",
            "Uploaded file: foldmason_aa.fa\n"
          ]
        }
      ]
    },
    {
      "cell_type": "code",
      "source": [
        "msa_file = \"20 sequences Alignment.fasta\"  # 업로드한 MSA 파일 이름\n",
        "msta_file = \"foldmason_aa.fa\"             # 업로드한 MSTA 파일 이름\n",
        "output_path = \"./output\"                  # 출력 경로\n",
        "reference = \"REF_SEQ\"                     # 참조 서열 이름\n"
      ],
      "metadata": {
        "id": "tG8ocF-KbM8u"
      },
      "execution_count": 7,
      "outputs": []
    },
    {
      "cell_type": "code",
      "source": [
        "from google.colab import files\n",
        "\n",
        "# 생성된 파일 다운로드\n",
        "files.download(\"./output/msa_scores.csv\")\n",
        "files.download(\"./output/msta_scores.csv\")\n"
      ],
      "metadata": {
        "colab": {
          "base_uri": "https://localhost:8080/",
          "height": 331
        },
        "id": "4mPeYaaRbPKn",
        "outputId": "af54a56b-3ffe-408e-e3e5-4a10614fd8de"
      },
      "execution_count": 18,
      "outputs": [
        {
          "output_type": "error",
          "ename": "FileNotFoundError",
          "evalue": "Cannot find file: ./output/msa_scores.csv",
          "traceback": [
            "\u001b[0;31m---------------------------------------------------------------------------\u001b[0m",
            "\u001b[0;31mFileNotFoundError\u001b[0m                         Traceback (most recent call last)",
            "\u001b[0;32m<ipython-input-18-37dae516da01>\u001b[0m in \u001b[0;36m<cell line: 4>\u001b[0;34m()\u001b[0m\n\u001b[1;32m      2\u001b[0m \u001b[0;34m\u001b[0m\u001b[0m\n\u001b[1;32m      3\u001b[0m \u001b[0;31m# 생성된 파일 다운로드\u001b[0m\u001b[0;34m\u001b[0m\u001b[0;34m\u001b[0m\u001b[0m\n\u001b[0;32m----> 4\u001b[0;31m \u001b[0mfiles\u001b[0m\u001b[0;34m.\u001b[0m\u001b[0mdownload\u001b[0m\u001b[0;34m(\u001b[0m\u001b[0;34m\"./output/msa_scores.csv\"\u001b[0m\u001b[0;34m)\u001b[0m\u001b[0;34m\u001b[0m\u001b[0;34m\u001b[0m\u001b[0m\n\u001b[0m\u001b[1;32m      5\u001b[0m \u001b[0mfiles\u001b[0m\u001b[0;34m.\u001b[0m\u001b[0mdownload\u001b[0m\u001b[0;34m(\u001b[0m\u001b[0;34m\"./output/msta_scores.csv\"\u001b[0m\u001b[0;34m)\u001b[0m\u001b[0;34m\u001b[0m\u001b[0;34m\u001b[0m\u001b[0m\n",
            "\u001b[0;32m/usr/local/lib/python3.10/dist-packages/google/colab/files.py\u001b[0m in \u001b[0;36mdownload\u001b[0;34m(filename)\u001b[0m\n\u001b[1;32m    231\u001b[0m   \u001b[0;32mif\u001b[0m \u001b[0;32mnot\u001b[0m \u001b[0m_os\u001b[0m\u001b[0;34m.\u001b[0m\u001b[0mpath\u001b[0m\u001b[0;34m.\u001b[0m\u001b[0mexists\u001b[0m\u001b[0;34m(\u001b[0m\u001b[0mfilename\u001b[0m\u001b[0;34m)\u001b[0m\u001b[0;34m:\u001b[0m\u001b[0;34m\u001b[0m\u001b[0;34m\u001b[0m\u001b[0m\n\u001b[1;32m    232\u001b[0m     \u001b[0mmsg\u001b[0m \u001b[0;34m=\u001b[0m \u001b[0;34m'Cannot find file: {}'\u001b[0m\u001b[0;34m.\u001b[0m\u001b[0mformat\u001b[0m\u001b[0;34m(\u001b[0m\u001b[0mfilename\u001b[0m\u001b[0;34m)\u001b[0m\u001b[0;34m\u001b[0m\u001b[0;34m\u001b[0m\u001b[0m\n\u001b[0;32m--> 233\u001b[0;31m     \u001b[0;32mraise\u001b[0m \u001b[0mFileNotFoundError\u001b[0m\u001b[0;34m(\u001b[0m\u001b[0mmsg\u001b[0m\u001b[0;34m)\u001b[0m  \u001b[0;31m# pylint: disable=undefined-variable\u001b[0m\u001b[0;34m\u001b[0m\u001b[0;34m\u001b[0m\u001b[0m\n\u001b[0m\u001b[1;32m    234\u001b[0m \u001b[0;34m\u001b[0m\u001b[0m\n\u001b[1;32m    235\u001b[0m   \u001b[0mcomm_manager\u001b[0m \u001b[0;34m=\u001b[0m \u001b[0m_IPython\u001b[0m\u001b[0;34m.\u001b[0m\u001b[0mget_ipython\u001b[0m\u001b[0;34m(\u001b[0m\u001b[0;34m)\u001b[0m\u001b[0;34m.\u001b[0m\u001b[0mkernel\u001b[0m\u001b[0;34m.\u001b[0m\u001b[0mcomm_manager\u001b[0m\u001b[0;34m\u001b[0m\u001b[0;34m\u001b[0m\u001b[0m\n",
            "\u001b[0;31mFileNotFoundError\u001b[0m: Cannot find file: ./output/msa_scores.csv"
          ]
        }
      ]
    },
    {
      "cell_type": "code",
      "source": [],
      "metadata": {
        "id": "l61uEpz3b97i"
      },
      "execution_count": null,
      "outputs": []
    },
    {
      "cell_type": "code",
      "source": [
        "import os\n",
        "\n",
        "# 출력 디렉터리 확인\n",
        "output_path = \"./output\"\n",
        "print(\"Output directory exists:\", os.path.exists(output_path))\n",
        "print(\"Contents of output directory:\", os.listdir(output_path) if os.path.exists(output_path) else \"Directory does not exist\")\n"
      ],
      "metadata": {
        "colab": {
          "base_uri": "https://localhost:8080/"
        },
        "id": "EmoC1GtZbW3k",
        "outputId": "5077acb4-2c5f-44a8-b596-38fd6b464974"
      },
      "execution_count": 9,
      "outputs": [
        {
          "output_type": "stream",
          "name": "stdout",
          "text": [
            "Output directory exists: False\n",
            "Contents of output directory: Directory does not exist\n"
          ]
        }
      ]
    },
    {
      "cell_type": "code",
      "source": [
        "def calculate_msa_msta(msa, msta, output_path):\n",
        "    \"\"\"\n",
        "    MSA와 MSTA 점수를 계산하고 저장합니다.\n",
        "    \"\"\"\n",
        "    msa_scores = msa.get_cons_scores(\"id\")\n",
        "    msta_scores = msta.get_cons_scores(\"id\")\n",
        "\n",
        "    msa_df = pd.DataFrame({\"Position\": msa.get_referenced_pos(), \"Score\": msa_scores})\n",
        "    msta_df = pd.DataFrame({\"Position\": msta.get_referenced_pos(), \"Score\": msta_scores})\n",
        "\n",
        "    # 디버깅: DataFrame 출력\n",
        "    print(\"MSA DataFrame:\", msa_df)\n",
        "    print(\"MSTA DataFrame:\", msta_df)\n",
        "\n",
        "    # 결과를 CSV로 저장\n",
        "    msa_output_path = os.path.join(output_path, \"msa_scores.csv\")\n",
        "    msta_output_path = os.path.join(output_path, \"msta_scores.csv\")\n",
        "\n",
        "    msa_df.to_csv(msa_output_path, index=False)\n",
        "    msta_df.to_csv(msta_output_path, index=False)\n",
        "\n",
        "    print(f\"MSA scores saved to {msa_output_path}\")\n",
        "    print(f\"MSTA scores saved to {msta_output_path}\")\n"
      ],
      "metadata": {
        "id": "Vh1qLE9jbbjj"
      },
      "execution_count": 10,
      "outputs": []
    },
    {
      "cell_type": "code",
      "source": [
        "if not os.path.exists(output_path):\n",
        "    os.makedirs(output_path)\n",
        "    print(f\"Directory created at {output_path}\")\n"
      ],
      "metadata": {
        "colab": {
          "base_uri": "https://localhost:8080/"
        },
        "id": "YafDS8okbetD",
        "outputId": "5115e681-a58c-44eb-a7b9-ea5c00e467a7"
      },
      "execution_count": 11,
      "outputs": [
        {
          "output_type": "stream",
          "name": "stdout",
          "text": [
            "Directory created at ./output\n"
          ]
        }
      ]
    },
    {
      "cell_type": "code",
      "source": [
        "import os\n",
        "\n",
        "# 출력 디렉터리 확인\n",
        "output_path = \"./output\"\n",
        "print(\"Output directory contents:\", os.listdir(output_path))\n"
      ],
      "metadata": {
        "colab": {
          "base_uri": "https://localhost:8080/"
        },
        "id": "qNVlB_uzbj-5",
        "outputId": "a4921927-9dff-41ad-b691-9dc6796ddefc"
      },
      "execution_count": 12,
      "outputs": [
        {
          "output_type": "stream",
          "name": "stdout",
          "text": [
            "Output directory contents: []\n"
          ]
        }
      ]
    },
    {
      "cell_type": "code",
      "source": [
        "import utils as dc\n",
        "import os\n",
        "import pandas as pd\n",
        "from google.colab import files\n",
        "\n",
        "def upload_files():\n",
        "    \"\"\"\n",
        "    Google Colab에서 파일 업로드\n",
        "    \"\"\"\n",
        "    uploaded = files.upload()\n",
        "    return uploaded\n",
        "\n",
        "def read_input_files(msa_file, msta_file, reference):\n",
        "    \"\"\"\n",
        "    MSA와 MSTA 파일을 읽고 객체로 변환합니다.\n",
        "    \"\"\"\n",
        "    msa = dc.MSA(\"MSA\", reference=reference)\n",
        "    msa.msa = dc.create_msa(open(msa_file))\n",
        "\n",
        "    msta = dc.MSA(\"MSTA\", reference=reference)\n",
        "    msta.msa = dc.create_msa(open(msta_file))\n",
        "\n",
        "    return msa, msta\n",
        "\n",
        "def calculate_msa_msta(msa, msta, output_path):\n",
        "    \"\"\"\n",
        "    MSA와 MSTA 점수를 계산하고 저장합니다.\n",
        "    \"\"\"\n",
        "    msa_scores = msa.get_cons_scores(\"id\")\n",
        "    msta_scores = msta.get_cons_scores(\"id\")\n",
        "\n",
        "    msa_df = pd.DataFrame({\"Position\": msa.get_referenced_pos(), \"Score\": msa_scores})\n",
        "    msta_df = pd.DataFrame({\"Position\": msta.get_referenced_pos(), \"Score\": msta_scores})\n",
        "\n",
        "    # 결과를 CSV로 저장\n",
        "    msa_output_path = os.path.join(output_path, \"msa_scores.csv\")\n",
        "    msta_output_path = os.path.join(output_path, \"msta_scores.csv\")\n",
        "\n",
        "    msa_df.to_csv(msa_output_path, index=False)\n",
        "    msta_df.to_csv(msta_output_path, index=False)\n",
        "\n",
        "    print(f\"MSA scores saved to {msa_output_path}\")\n",
        "    print(f\"MSTA scores saved to {msta_output_path}\")\n",
        "\n",
        "def main():\n",
        "    # 파일 업로드\n",
        "    uploaded = upload_files()\n",
        "\n",
        "    # 업로드된 파일 이름 가져오기\n",
        "    msa_file = list(uploaded.keys())[0]  # 첫 번째 업로드 파일을 MSA로 사용\n",
        "    msta_file = list(uploaded.keys())[1]  # 두 번째 업로드 파일을 MSTA로 사용\n",
        "\n",
        "    output_path = \"./output\"  # 출력 경로\n",
        "\n",
        "    # 참조 서열 선택\n",
        "    msa = dc.create_msa(open(msa_file))\n",
        "    reference_options = msa.index.tolist()\n",
        "    print(\"Available references:\", reference_options)\n",
        "\n",
        "    # 사용자 입력과 실제 참조 이름 자동 매칭\n",
        "    user_input = input(f\"Choose a reference from the following (partial match allowed):\\n\")\n",
        "    reference = next((name for name in reference_options if user_input.lower() in name.lower()), None)\n",
        "\n",
        "    if reference is None:\n",
        "        print(\"Error: No matching reference found. Please try again.\")\n",
        "        return\n",
        "\n",
        "    if not os.path.exists(output_path):\n",
        "        os.makedirs(output_path)\n",
        "\n",
        "    msa, msta = read_input_files(msa_file, msta_file, reference)\n",
        "    calculate_msa_msta(msa, msta, output_path)\n",
        "\n",
        "if __name__ == \"__main__\":\n",
        "    main()\n"
      ],
      "metadata": {
        "colab": {
          "base_uri": "https://localhost:8080/",
          "height": 204
        },
        "id": "xqGaUFhZf3ni",
        "outputId": "12c0a91e-2cad-416d-9444-eef3114a4c9d"
      },
      "execution_count": 41,
      "outputs": [
        {
          "output_type": "display_data",
          "data": {
            "text/plain": [
              "<IPython.core.display.HTML object>"
            ],
            "text/html": [
              "\n",
              "     <input type=\"file\" id=\"files-081ffca1-a7a3-4ccb-b6a2-329160db7485\" name=\"files[]\" multiple disabled\n",
              "        style=\"border:none\" />\n",
              "     <output id=\"result-081ffca1-a7a3-4ccb-b6a2-329160db7485\">\n",
              "      Upload widget is only available when the cell has been executed in the\n",
              "      current browser session. Please rerun this cell to enable.\n",
              "      </output>\n",
              "      <script>// Copyright 2017 Google LLC\n",
              "//\n",
              "// Licensed under the Apache License, Version 2.0 (the \"License\");\n",
              "// you may not use this file except in compliance with the License.\n",
              "// You may obtain a copy of the License at\n",
              "//\n",
              "//      http://www.apache.org/licenses/LICENSE-2.0\n",
              "//\n",
              "// Unless required by applicable law or agreed to in writing, software\n",
              "// distributed under the License is distributed on an \"AS IS\" BASIS,\n",
              "// WITHOUT WARRANTIES OR CONDITIONS OF ANY KIND, either express or implied.\n",
              "// See the License for the specific language governing permissions and\n",
              "// limitations under the License.\n",
              "\n",
              "/**\n",
              " * @fileoverview Helpers for google.colab Python module.\n",
              " */\n",
              "(function(scope) {\n",
              "function span(text, styleAttributes = {}) {\n",
              "  const element = document.createElement('span');\n",
              "  element.textContent = text;\n",
              "  for (const key of Object.keys(styleAttributes)) {\n",
              "    element.style[key] = styleAttributes[key];\n",
              "  }\n",
              "  return element;\n",
              "}\n",
              "\n",
              "// Max number of bytes which will be uploaded at a time.\n",
              "const MAX_PAYLOAD_SIZE = 100 * 1024;\n",
              "\n",
              "function _uploadFiles(inputId, outputId) {\n",
              "  const steps = uploadFilesStep(inputId, outputId);\n",
              "  const outputElement = document.getElementById(outputId);\n",
              "  // Cache steps on the outputElement to make it available for the next call\n",
              "  // to uploadFilesContinue from Python.\n",
              "  outputElement.steps = steps;\n",
              "\n",
              "  return _uploadFilesContinue(outputId);\n",
              "}\n",
              "\n",
              "// This is roughly an async generator (not supported in the browser yet),\n",
              "// where there are multiple asynchronous steps and the Python side is going\n",
              "// to poll for completion of each step.\n",
              "// This uses a Promise to block the python side on completion of each step,\n",
              "// then passes the result of the previous step as the input to the next step.\n",
              "function _uploadFilesContinue(outputId) {\n",
              "  const outputElement = document.getElementById(outputId);\n",
              "  const steps = outputElement.steps;\n",
              "\n",
              "  const next = steps.next(outputElement.lastPromiseValue);\n",
              "  return Promise.resolve(next.value.promise).then((value) => {\n",
              "    // Cache the last promise value to make it available to the next\n",
              "    // step of the generator.\n",
              "    outputElement.lastPromiseValue = value;\n",
              "    return next.value.response;\n",
              "  });\n",
              "}\n",
              "\n",
              "/**\n",
              " * Generator function which is called between each async step of the upload\n",
              " * process.\n",
              " * @param {string} inputId Element ID of the input file picker element.\n",
              " * @param {string} outputId Element ID of the output display.\n",
              " * @return {!Iterable<!Object>} Iterable of next steps.\n",
              " */\n",
              "function* uploadFilesStep(inputId, outputId) {\n",
              "  const inputElement = document.getElementById(inputId);\n",
              "  inputElement.disabled = false;\n",
              "\n",
              "  const outputElement = document.getElementById(outputId);\n",
              "  outputElement.innerHTML = '';\n",
              "\n",
              "  const pickedPromise = new Promise((resolve) => {\n",
              "    inputElement.addEventListener('change', (e) => {\n",
              "      resolve(e.target.files);\n",
              "    });\n",
              "  });\n",
              "\n",
              "  const cancel = document.createElement('button');\n",
              "  inputElement.parentElement.appendChild(cancel);\n",
              "  cancel.textContent = 'Cancel upload';\n",
              "  const cancelPromise = new Promise((resolve) => {\n",
              "    cancel.onclick = () => {\n",
              "      resolve(null);\n",
              "    };\n",
              "  });\n",
              "\n",
              "  // Wait for the user to pick the files.\n",
              "  const files = yield {\n",
              "    promise: Promise.race([pickedPromise, cancelPromise]),\n",
              "    response: {\n",
              "      action: 'starting',\n",
              "    }\n",
              "  };\n",
              "\n",
              "  cancel.remove();\n",
              "\n",
              "  // Disable the input element since further picks are not allowed.\n",
              "  inputElement.disabled = true;\n",
              "\n",
              "  if (!files) {\n",
              "    return {\n",
              "      response: {\n",
              "        action: 'complete',\n",
              "      }\n",
              "    };\n",
              "  }\n",
              "\n",
              "  for (const file of files) {\n",
              "    const li = document.createElement('li');\n",
              "    li.append(span(file.name, {fontWeight: 'bold'}));\n",
              "    li.append(span(\n",
              "        `(${file.type || 'n/a'}) - ${file.size} bytes, ` +\n",
              "        `last modified: ${\n",
              "            file.lastModifiedDate ? file.lastModifiedDate.toLocaleDateString() :\n",
              "                                    'n/a'} - `));\n",
              "    const percent = span('0% done');\n",
              "    li.appendChild(percent);\n",
              "\n",
              "    outputElement.appendChild(li);\n",
              "\n",
              "    const fileDataPromise = new Promise((resolve) => {\n",
              "      const reader = new FileReader();\n",
              "      reader.onload = (e) => {\n",
              "        resolve(e.target.result);\n",
              "      };\n",
              "      reader.readAsArrayBuffer(file);\n",
              "    });\n",
              "    // Wait for the data to be ready.\n",
              "    let fileData = yield {\n",
              "      promise: fileDataPromise,\n",
              "      response: {\n",
              "        action: 'continue',\n",
              "      }\n",
              "    };\n",
              "\n",
              "    // Use a chunked sending to avoid message size limits. See b/62115660.\n",
              "    let position = 0;\n",
              "    do {\n",
              "      const length = Math.min(fileData.byteLength - position, MAX_PAYLOAD_SIZE);\n",
              "      const chunk = new Uint8Array(fileData, position, length);\n",
              "      position += length;\n",
              "\n",
              "      const base64 = btoa(String.fromCharCode.apply(null, chunk));\n",
              "      yield {\n",
              "        response: {\n",
              "          action: 'append',\n",
              "          file: file.name,\n",
              "          data: base64,\n",
              "        },\n",
              "      };\n",
              "\n",
              "      let percentDone = fileData.byteLength === 0 ?\n",
              "          100 :\n",
              "          Math.round((position / fileData.byteLength) * 100);\n",
              "      percent.textContent = `${percentDone}% done`;\n",
              "\n",
              "    } while (position < fileData.byteLength);\n",
              "  }\n",
              "\n",
              "  // All done.\n",
              "  yield {\n",
              "    response: {\n",
              "      action: 'complete',\n",
              "    }\n",
              "  };\n",
              "}\n",
              "\n",
              "scope.google = scope.google || {};\n",
              "scope.google.colab = scope.google.colab || {};\n",
              "scope.google.colab._files = {\n",
              "  _uploadFiles,\n",
              "  _uploadFilesContinue,\n",
              "};\n",
              "})(self);\n",
              "</script> "
            ]
          },
          "metadata": {}
        },
        {
          "output_type": "stream",
          "name": "stdout",
          "text": [
            "Saving 20 sequences Alignment.fasta to 20 sequences Alignment.fasta\n",
            "Saving foldmason_aa.fa to foldmason_aa.fa\n",
            "Available references: ['aave2166', 'xopj2', 'hopz5', 'aave2708', 'xopj1', 'xopj3', 'xopj4', 'hopz1a', 'hopz1b', 'hopz2', 'hopz4', 'ripp1', 'eop1', 'hopz3', 'hopz1c', 'ripj', 'ripp2', 'xopj5', 'xopj6', 'ripk']\n",
            "Choose a reference from the following (partial match allowed):\n",
            "hopz5\n",
            "MSA scores saved to ./output/msa_scores.csv\n",
            "MSTA scores saved to ./output/msta_scores.csv\n"
          ]
        }
      ]
    }
  ]
}